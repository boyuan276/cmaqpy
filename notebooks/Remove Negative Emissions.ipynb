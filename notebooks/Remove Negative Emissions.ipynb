{
 "cells": [
  {
   "cell_type": "code",
   "execution_count": 1,
   "metadata": {},
   "outputs": [],
   "source": [
    "import pandas as pd"
   ]
  },
  {
   "cell_type": "code",
   "execution_count": 3,
   "metadata": {},
   "outputs": [],
   "source": [
    "ddir = '../cmaqpy/data/ny_emis/ml_output'\n",
    "co2_infile = 'pred_without_renewable_xg_co2.csv'\n",
    "co2_outfile = 'pred_without_renewable_xg_co2_fix.csv'\n",
    "nox_infile = 'pred_without_renewable_xg_nox.csv'\n",
    "nox_outfile = 'pred_without_renewable_xg_nox_fix.csv'\n",
    "so2_infile = 'pred_without_renewable_xg_so2.csv'\n",
    "so2_outfile = 'pred_without_renewable_xg_so2_fix.csv'"
   ]
  },
  {
   "cell_type": "code",
   "execution_count": 4,
   "metadata": {},
   "outputs": [],
   "source": [
    "co2_df = pd.read_csv(f'{ddir}/{co2_infile}')\n",
    "nox_df = pd.read_csv(f'{ddir}/{nox_infile}')\n",
    "so2_df = pd.read_csv(f'{ddir}/{so2_infile}')"
   ]
  },
  {
   "cell_type": "code",
   "execution_count": 5,
   "metadata": {},
   "outputs": [],
   "source": [
    "num_co2_df = co2_df._get_numeric_data()\n",
    "num_co2_df[num_co2_df < 0] = 0\n",
    "num_nox_df = nox_df._get_numeric_data()\n",
    "num_nox_df[num_nox_df < 0] = 0\n",
    "num_so2_df = so2_df._get_numeric_data()\n",
    "num_so2_df[num_so2_df < 0] = 0"
   ]
  },
  {
   "cell_type": "code",
   "execution_count": 6,
   "metadata": {},
   "outputs": [],
   "source": [
    "co2_df.to_csv(f'{ddir}/{co2_outfile}', index=False)\n",
    "nox_df.to_csv(f'{ddir}/{nox_outfile}', index=False)\n",
    "so2_df.to_csv(f'{ddir}/{so2_outfile}', index=False)"
   ]
  },
  {
   "cell_type": "code",
   "execution_count": null,
   "metadata": {},
   "outputs": [],
   "source": []
  }
 ],
 "metadata": {
  "interpreter": {
   "hash": "121077245700a2b66daca3b9529d7f14947b660edc25000c794d11b2411c0f4f"
  },
  "kernelspec": {
   "display_name": "Python 3.8.8 ('oshwind')",
   "language": "python",
   "name": "python3"
  },
  "language_info": {
   "codemirror_mode": {
    "name": "ipython",
    "version": 3
   },
   "file_extension": ".py",
   "mimetype": "text/x-python",
   "name": "python",
   "nbconvert_exporter": "python",
   "pygments_lexer": "ipython3",
   "version": "3.8.8"
  },
  "orig_nbformat": 4
 },
 "nbformat": 4,
 "nbformat_minor": 2
}
