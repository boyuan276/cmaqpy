{
 "cells": [
  {
   "cell_type": "markdown",
   "metadata": {},
   "source": [
    "Notebook for testing random things"
   ]
  },
  {
   "cell_type": "code",
   "execution_count": 11,
   "metadata": {},
   "outputs": [],
   "source": [
    "from cmaqpy.runcmaq import CMAQModel\n",
    "import datetime"
   ]
  },
  {
   "cell_type": "code",
   "execution_count": 8,
   "metadata": {},
   "outputs": [
    {
     "name": "stdout",
     "output_type": "stream",
     "text": [
      "Application name: 2016_12OTC2\n",
      "Coordinate name: LAM_40N97W\n",
      "Grid name: 12OTC2\n",
      "CMAQ run starting on: 2016-08-05 00:00:00\n",
      "CMAQ run ending on: 2016-08-15 00:00:00\n"
     ]
    }
   ],
   "source": [
    "# Specify the start/end times\n",
    "start_datetime = 'August 05, 2016'  # first day that you want for MCIP/CCTM\n",
    "end_datetime = 'August 15, 2016'  # add one day to the final day that you want to run MCIP/CCTM\n",
    "# Specify if you want to run the 12 km or the 4 km domain\n",
    "appl = '2016_12OTC2'\n",
    "# appl = '2016_4OTC2'\n",
    "# Define the coordinate name (must match that in GRIDDESC)\n",
    "coord_name = 'LAM_40N97W'\n",
    "if appl == '2016_12OTC2':\n",
    "    grid_name = '12OTC2'\n",
    "elif appl == '2016_4OTC2':\n",
    "    grid_name = '4OTC2'\n",
    "\n",
    "# Create a CMAQModel object\n",
    "cmaq_sim = CMAQModel(start_datetime, end_datetime, appl, coord_name, grid_name, verbose=True)"
   ]
  },
  {
   "cell_type": "code",
   "execution_count": 10,
   "metadata": {},
   "outputs": [
    {
     "data": {
      "text/plain": [
       "10"
      ]
     },
     "execution_count": 10,
     "metadata": {},
     "output_type": "execute_result"
    }
   ],
   "source": [
    "cmaq_sim.delt.days"
   ]
  },
  {
   "cell_type": "code",
   "execution_count": 15,
   "metadata": {},
   "outputs": [],
   "source": [
    "start_datetimes_lst = [single_date for single_date in (cmaq_sim.start_datetime + datetime.timedelta(n) for n in range(cmaq_sim.delt.days))]\n",
    "end_datetimes_lst = [single_date for single_date in (cmaq_sim.start_datetime + datetime.timedelta(n + 1) for n in range(cmaq_sim.delt.days))]"
   ]
  },
  {
   "cell_type": "code",
   "execution_count": 17,
   "metadata": {},
   "outputs": [
    {
     "name": "stdout",
     "output_type": "stream",
     "text": [
      "0\n",
      "2016-08-05 00:00:00\n",
      "2016-08-06 00:00:00\n",
      "1\n",
      "2016-08-06 00:00:00\n",
      "2016-08-07 00:00:00\n",
      "2\n",
      "2016-08-07 00:00:00\n",
      "2016-08-08 00:00:00\n",
      "3\n",
      "2016-08-08 00:00:00\n",
      "2016-08-09 00:00:00\n",
      "4\n",
      "2016-08-09 00:00:00\n",
      "2016-08-10 00:00:00\n",
      "5\n",
      "2016-08-10 00:00:00\n",
      "2016-08-11 00:00:00\n",
      "6\n",
      "2016-08-11 00:00:00\n",
      "2016-08-12 00:00:00\n",
      "7\n",
      "2016-08-12 00:00:00\n",
      "2016-08-13 00:00:00\n",
      "8\n",
      "2016-08-13 00:00:00\n",
      "2016-08-14 00:00:00\n",
      "9\n",
      "2016-08-14 00:00:00\n",
      "2016-08-15 00:00:00\n"
     ]
    }
   ],
   "source": [
    "for day_no in range(cmaq_sim.delt.days):\n",
    "    start_datetime = cmaq_sim.start_datetime + datetime.timedelta(day_no)\n",
    "    end_datetime = cmaq_sim.start_datetime + datetime.timedelta(day_no + 1)\n",
    "    print(day_no)\n",
    "    print(start_datetime)\n",
    "    print(end_datetime)"
   ]
  },
  {
   "cell_type": "code",
   "execution_count": null,
   "metadata": {},
   "outputs": [],
   "source": []
  }
 ],
 "metadata": {
  "interpreter": {
   "hash": "121077245700a2b66daca3b9529d7f14947b660edc25000c794d11b2411c0f4f"
  },
  "kernelspec": {
   "display_name": "Python 3.8.8 ('oshwind')",
   "language": "python",
   "name": "python3"
  },
  "language_info": {
   "codemirror_mode": {
    "name": "ipython",
    "version": 3
   },
   "file_extension": ".py",
   "mimetype": "text/x-python",
   "name": "python",
   "nbconvert_exporter": "python",
   "pygments_lexer": "ipython3",
   "version": "3.8.8"
  },
  "orig_nbformat": 4
 },
 "nbformat": 4,
 "nbformat_minor": 2
}
