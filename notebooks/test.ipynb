{
 "cells": [
  {
   "cell_type": "markdown",
   "metadata": {},
   "source": [
    "Notebook for testing random things"
   ]
  },
  {
   "cell_type": "code",
   "execution_count": 1,
   "metadata": {},
   "outputs": [],
   "source": [
    "from cmaqpy.runcmaq import CMAQModel\n",
    "import datetime\n",
    "import pandas as pd\n",
    "import xarray as xr"
   ]
  },
  {
   "cell_type": "code",
   "execution_count": null,
   "metadata": {},
   "outputs": [],
   "source": []
  },
  {
   "cell_type": "code",
   "execution_count": null,
   "metadata": {},
   "outputs": [],
   "source": []
  },
  {
   "cell_type": "code",
   "execution_count": 2,
   "metadata": {},
   "outputs": [
    {
     "name": "stdout",
     "output_type": "stream",
     "text": [
      "Application name: 2016_12OTC2\n",
      "Coordinate name: LAM_40N97W\n",
      "Grid name: 12OTC2\n",
      "CCTM RUNID: v533_gcc9.3.1_2016_12OTC2\n",
      "CMAQ run starting on: 2016-08-05 00:00:00\n",
      "CMAQ run ending on: 2016-08-15 00:00:00\n"
     ]
    }
   ],
   "source": [
    "# Specify the start/end times\n",
    "start_datetime = 'August 05, 2016'  # first day that you want for MCIP/CCTM\n",
    "end_datetime = 'August 15, 2016'  # add one day to the final day that you want to run MCIP/CCTM\n",
    "# Specify if you want to run the 12 km or the 4 km domain\n",
    "appl = '2016_12OTC2'\n",
    "# appl = '2016_4OTC2'\n",
    "# Define the coordinate name (must match that in GRIDDESC)\n",
    "coord_name = 'LAM_40N97W'\n",
    "if appl == '2016_12OTC2':\n",
    "    grid_name = '12OTC2'\n",
    "elif appl == '2016_4OTC2':\n",
    "    grid_name = '4OTC2'\n",
    "\n",
    "# Create a CMAQModel object\n",
    "cmaq_sim = CMAQModel(start_datetime, end_datetime, appl, coord_name, grid_name, verbose=True)"
   ]
  },
  {
   "cell_type": "code",
   "execution_count": 3,
   "metadata": {},
   "outputs": [
    {
     "data": {
      "text/plain": [
       "10"
      ]
     },
     "execution_count": 3,
     "metadata": {},
     "output_type": "execute_result"
    }
   ],
   "source": [
    "cmaq_sim.delt.days"
   ]
  },
  {
   "cell_type": "code",
   "execution_count": 5,
   "metadata": {},
   "outputs": [],
   "source": [
    "start_datetimes_lst = [single_date for single_date in (cmaq_sim.start_datetime + datetime.timedelta(n) for n in range(cmaq_sim.delt.days))]\n",
    "end_datetimes_lst = [single_date for single_date in (cmaq_sim.start_datetime + datetime.timedelta(n + 1) for n in range(cmaq_sim.delt.days))]"
   ]
  },
  {
   "cell_type": "code",
   "execution_count": 8,
   "metadata": {},
   "outputs": [
    {
     "data": {
      "text/plain": [
       "datetime.datetime(2016, 8, 5, 0, 0)"
      ]
     },
     "execution_count": 8,
     "metadata": {},
     "output_type": "execute_result"
    }
   ],
   "source": [
    "start_datetimes_lst[0]"
   ]
  },
  {
   "cell_type": "code",
   "execution_count": 45,
   "metadata": {},
   "outputs": [],
   "source": [
    "smk_dates = pd.read_csv('/share/mzhang/jas983/cmaq_data/CMAQ_v5.3.3/2016_12OTC2/input/emis/smk_merge_dates_201608.txt', index_col=0, parse_dates=[0], infer_datetime_format=True)"
   ]
  },
  {
   "cell_type": "code",
   "execution_count": 51,
   "metadata": {},
   "outputs": [
    {
     "data": {
      "text/plain": [
       "20160809"
      ]
     },
     "execution_count": 51,
     "metadata": {},
     "output_type": "execute_result"
    }
   ],
   "source": [
    "s = smk_dates['  mwdss_N']\n",
    "rep_day = s[start_datetimes_lst[0]]"
   ]
  },
  {
   "cell_type": "code",
   "execution_count": 74,
   "metadata": {},
   "outputs": [],
   "source": [
    "def get_rep_dates(smk_dates_dir, dates_list, date_type='  mwdss_N'):\n",
    "    \"\"\"\n",
    "    Get representative dates from the files produced by smkmerge.\n",
    "\n",
    "    Make sure that you include the correct white space in the date_type\n",
    "    parameter. The options are: \n",
    "    ' aveday_N', ' aveday_Y', \n",
    "    '  mwdss_N', '  mwdss_Y', \n",
    "    '   week_N', '   week_Y', \n",
    "    '      all'\n",
    "\n",
    "    NOTE: this woudld be slightly faster if I didn't reopen the file each time, \n",
    "    but it's such a small fraction of the time for CCTM that I'm not\n",
    "    going to worry about it now.\n",
    "    \"\"\"\n",
    "    rep_days = []\n",
    "    # Loop through each day in the input list and append the respective representative day to the list\n",
    "    for date in dates_list:\n",
    "        d_str = date.strftime(\"%Y%m\")\n",
    "        smk_dates = pd.read_csv(f'{smk_dates_dir}/smk_merge_dates_{d_str}.txt', index_col=0, parse_dates=[0], infer_datetime_format=True)\n",
    "        s = smk_dates[date_type]\n",
    "        rep_days.append(s[date])\n",
    "\n",
    "    # Remove duplicates in the represenatitive days \n",
    "    result = [] \n",
    "    [result.append(x) for x in rep_days if x not in result]\n",
    "\n",
    "    # Convert to datetimes\n",
    "    result = pd.to_datetime(result, format='%Y%m%d')   \n",
    "     \n",
    "    return result"
   ]
  },
  {
   "cell_type": "code",
   "execution_count": 59,
   "metadata": {},
   "outputs": [
    {
     "data": {
      "text/plain": [
       "[20160809,\n",
       " 20160813,\n",
       " 20160814,\n",
       " 20160808,\n",
       " 20160809,\n",
       " 20160809,\n",
       " 20160809,\n",
       " 20160809,\n",
       " 20160813,\n",
       " 20160814]"
      ]
     },
     "execution_count": 59,
     "metadata": {},
     "output_type": "execute_result"
    }
   ],
   "source": [
    "get_rep_dates('/share/mzhang/jas983/cmaq_data/CMAQ_v5.3.3/2016_12OTC2/input/emis', start_datetimes_lst, date_type='  mwdss_N')"
   ]
  },
  {
   "cell_type": "code",
   "execution_count": 75,
   "metadata": {},
   "outputs": [
    {
     "data": {
      "text/plain": [
       "DatetimeIndex(['2016-08-09', '2016-08-13', '2016-08-14', '2016-08-08'], dtype='datetime64[ns]', freq=None)"
      ]
     },
     "execution_count": 75,
     "metadata": {},
     "output_type": "execute_result"
    }
   ],
   "source": [
    "get_rep_dates('/share/mzhang/jas983/cmaq_data/CMAQ_v5.3.3/2016_12OTC2/input/emis', start_datetimes_lst, date_type='  mwdss_Y')"
   ]
  },
  {
   "cell_type": "code",
   "execution_count": 71,
   "metadata": {},
   "outputs": [],
   "source": [
    "dates = pd.to_datetime(result, format='%Y%m%d')"
   ]
  },
  {
   "cell_type": "code",
   "execution_count": 72,
   "metadata": {},
   "outputs": [
    {
     "data": {
      "text/plain": [
       "DatetimeIndex(['2016-08-09', '2016-08-13', '2016-08-14', '2016-08-08'], dtype='datetime64[ns]', freq=None)"
      ]
     },
     "execution_count": 72,
     "metadata": {},
     "output_type": "execute_result"
    }
   ],
   "source": [
    "dates"
   ]
  },
  {
   "cell_type": "code",
   "execution_count": 73,
   "metadata": {},
   "outputs": [
    {
     "name": "stdout",
     "output_type": "stream",
     "text": [
      "160809\n",
      "160813\n",
      "160814\n",
      "160808\n"
     ]
    }
   ],
   "source": [
    "for date in dates:\n",
    "    print(date.strftime(\"%y%m%d\"))"
   ]
  },
  {
   "cell_type": "code",
   "execution_count": 8,
   "metadata": {},
   "outputs": [],
   "source": [
    "cmd = ''\n",
    "for date in start_datetimes_lst:\n",
    "    cmd = cmd + f'; *{date.strftime(\"%y%m%d\")}'"
   ]
  },
  {
   "cell_type": "code",
   "execution_count": 9,
   "metadata": {},
   "outputs": [
    {
     "data": {
      "text/plain": [
       "'; *160805; *160806; *160807; *160808; *160809; *160810; *160811; *160812; *160813; *160814'"
      ]
     },
     "execution_count": 9,
     "metadata": {},
     "output_type": "execute_result"
    }
   ],
   "source": [
    "cmd"
   ]
  },
  {
   "cell_type": "code",
   "execution_count": null,
   "metadata": {},
   "outputs": [],
   "source": [
    "mcip_sdatestr = mcip_start_datetime.strftime(\"%y%m%d\")"
   ]
  },
  {
   "cell_type": "code",
   "execution_count": 17,
   "metadata": {},
   "outputs": [
    {
     "name": "stdout",
     "output_type": "stream",
     "text": [
      "0\n",
      "2016-08-05 00:00:00\n",
      "2016-08-06 00:00:00\n",
      "1\n",
      "2016-08-06 00:00:00\n",
      "2016-08-07 00:00:00\n",
      "2\n",
      "2016-08-07 00:00:00\n",
      "2016-08-08 00:00:00\n",
      "3\n",
      "2016-08-08 00:00:00\n",
      "2016-08-09 00:00:00\n",
      "4\n",
      "2016-08-09 00:00:00\n",
      "2016-08-10 00:00:00\n",
      "5\n",
      "2016-08-10 00:00:00\n",
      "2016-08-11 00:00:00\n",
      "6\n",
      "2016-08-11 00:00:00\n",
      "2016-08-12 00:00:00\n",
      "7\n",
      "2016-08-12 00:00:00\n",
      "2016-08-13 00:00:00\n",
      "8\n",
      "2016-08-13 00:00:00\n",
      "2016-08-14 00:00:00\n",
      "9\n",
      "2016-08-14 00:00:00\n",
      "2016-08-15 00:00:00\n"
     ]
    }
   ],
   "source": [
    "for day_no in range(cmaq_sim.delt.days):\n",
    "    start_datetime = cmaq_sim.start_datetime + datetime.timedelta(day_no)\n",
    "    end_datetime = cmaq_sim.start_datetime + datetime.timedelta(day_no + 1)\n",
    "    print(day_no)\n",
    "    print(start_datetime)\n",
    "    print(end_datetime)"
   ]
  },
  {
   "cell_type": "code",
   "execution_count": null,
   "metadata": {},
   "outputs": [],
   "source": []
  }
 ],
 "metadata": {
  "interpreter": {
   "hash": "121077245700a2b66daca3b9529d7f14947b660edc25000c794d11b2411c0f4f"
  },
  "kernelspec": {
   "display_name": "Python 3.8.8 ('oshwind')",
   "language": "python",
   "name": "python3"
  },
  "language_info": {
   "codemirror_mode": {
    "name": "ipython",
    "version": 3
   },
   "file_extension": ".py",
   "mimetype": "text/x-python",
   "name": "python",
   "nbconvert_exporter": "python",
   "pygments_lexer": "ipython3",
   "version": "3.8.8"
  },
  "orig_nbformat": 4
 },
 "nbformat": 4,
 "nbformat_minor": 2
}
