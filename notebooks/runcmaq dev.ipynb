{
 "cells": [
  {
   "cell_type": "code",
   "execution_count": 1,
   "metadata": {},
   "outputs": [],
   "source": [
    "from cmaqpy import utils, runcmaq"
   ]
  },
  {
   "cell_type": "markdown",
   "metadata": {},
   "source": [
    "Test the function checks if programs run successfully "
   ]
  },
  {
   "cell_type": "code",
   "execution_count": 2,
   "metadata": {},
   "outputs": [
    {
     "data": {
      "text/plain": [
       "True"
      ]
     },
     "execution_count": 2,
     "metadata": {},
     "output_type": "execute_result"
    }
   ],
   "source": [
    "msg = utils.read_last('/home/jas983/models/cmaq/CMAQ_v5.3.3/PREP/mcip/scripts/run_mcip.log', n_lines=1)\n",
    "'NORMAL TERMINATION' in msg"
   ]
  },
  {
   "cell_type": "code",
   "execution_count": 3,
   "metadata": {},
   "outputs": [
    {
     "data": {
      "text/plain": [
       "True"
      ]
     },
     "execution_count": 3,
     "metadata": {},
     "output_type": "execute_result"
    }
   ],
   "source": [
    "msg = utils.read_last('/home/jas983/models/cmaq/CMAQ_v5.3.3/PREP/icon/scripts/run_icon.log', n_lines=5)\n",
    "'>>---->  Program  ICON completed successfully  <----<<' in msg"
   ]
  },
  {
   "cell_type": "code",
   "execution_count": 4,
   "metadata": {},
   "outputs": [
    {
     "data": {
      "text/plain": [
       "True"
      ]
     },
     "execution_count": 4,
     "metadata": {},
     "output_type": "execute_result"
    }
   ],
   "source": [
    "msg = utils.read_last('/home/jas983/models/cmaq/CMAQ_v5.3.3/PREP/bcon/scripts/run_bcon.log', n_lines=5)\n",
    "'>>---->  Program  BCON completed successfully  <----<<' in msg"
   ]
  },
  {
   "cell_type": "code",
   "execution_count": 5,
   "metadata": {},
   "outputs": [
    {
     "data": {
      "text/plain": [
       "True"
      ]
     },
     "execution_count": 5,
     "metadata": {},
     "output_type": "execute_result"
    }
   ],
   "source": [
    "msg = utils.read_last('/home/jas983/models/cmaq/CMAQ_v5.3.3/CCTM/scripts/cctm_Bench_2016_12SE1.log', n_lines=40)\n",
    "'|>---   PROGRAM COMPLETED SUCCESSFULLY   ---<|' in msg"
   ]
  },
  {
   "cell_type": "code",
   "execution_count": 11,
   "metadata": {},
   "outputs": [],
   "source": [
    "dt = utils.format_date('Jan 01 2020')"
   ]
  },
  {
   "cell_type": "code",
   "execution_count": 14,
   "metadata": {},
   "outputs": [
    {
     "data": {
      "text/plain": [
       "'2020-01-01_00:00:00.0000'"
      ]
     },
     "execution_count": 14,
     "metadata": {},
     "output_type": "execute_result"
    }
   ],
   "source": [
    "dt.strftime('%Y-%m-%d_%H:%M:%S.0000')"
   ]
  },
  {
   "cell_type": "code",
   "execution_count": null,
   "metadata": {},
   "outputs": [],
   "source": []
  }
 ],
 "metadata": {
  "interpreter": {
   "hash": "121077245700a2b66daca3b9529d7f14947b660edc25000c794d11b2411c0f4f"
  },
  "kernelspec": {
   "display_name": "Python 3.8.8 64-bit ('oshwind': conda)",
   "language": "python",
   "name": "python3"
  },
  "language_info": {
   "codemirror_mode": {
    "name": "ipython",
    "version": 3
   },
   "file_extension": ".py",
   "mimetype": "text/x-python",
   "name": "python",
   "nbconvert_exporter": "python",
   "pygments_lexer": "ipython3",
   "version": "3.8.8"
  },
  "orig_nbformat": 4
 },
 "nbformat": 4,
 "nbformat_minor": 2
}
